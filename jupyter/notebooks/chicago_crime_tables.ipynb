{
 "cells": [
  {
   "cell_type": "markdown",
   "id": "238d6e77",
   "metadata": {
    "jp-MarkdownHeadingCollapsed": true
   },
   "source": [
    "\n",
    "## 1) Setup\n",
    "- Works for **SQLite**: `.db`, `.sqlite`, `.sqlite3`\n",
    "- If you don't know the exact path, the cell will try to **auto-detect** a file that starts with `chicago` and has a SQLite extension.\n"
   ]
  },
  {
   "cell_type": "markdown",
   "id": "265ef799",
   "metadata": {},
   "source": [
    "\n",
    "# Chicago Crime — How many tables are in the dataset?\n",
    "This notebook helps you **count tables** in a Chicago Crime dataset, typically provided as a **SQLite database** (e.g., `chicago_crime.db`).  \n",
    "It also includes an optional section for **CSV-based datasets**.\n",
    "\n",
    "> If you run this on Kaggle or your own Jupyter, just set the `DB_PATH` (for SQLite) or `CSV_DIR` (for CSVs) and run the cells.\n"
   ]
  },
  {
   "cell_type": "code",
   "execution_count": 1,
   "id": "fbd3e820",
   "metadata": {},
   "outputs": [],
   "source": [
    "\n",
    "from pathlib import Path\n",
    "import sqlite3\n",
    "import pandas as pd\n",
    "\n",
    "# === CONFIG ===\n",
    "# If you already know the DB path, put it here, e.g.:\n",
    "# DB_PATH = Path('/home/jovyan/work/chicago_crime.db')\n",
    "DB_PATH = None  # will attempt auto-detect below\n",
    "\n",
    "# Optional: folder with CSVs (if your dataset is CSV-based)\n",
    "# CSV_DIR = Path('/home/jovyan/work/chicago_crime_csv')\n",
    "CSV_DIR = None\n",
    "\n",
    "# === AUTO-DETECT A SQLITE FILE ===\n",
    "if DB_PATH is None:\n",
    "    candidates = []\n",
    "    for ext in ('.db', '.sqlite', '.sqlite3'):\n",
    "        candidates += list(Path('.').rglob(f'chicago*{ext}'))\n",
    "    DB_PATH = candidates[0] if candidates else None\n",
    "\n",
    "DB_PATH\n"
   ]
  },
  {
   "cell_type": "markdown",
   "id": "5d344da0",
   "metadata": {
    "jp-MarkdownHeadingCollapsed": true
   },
   "source": [
    "\n",
    "## 2) Count tables in SQLite\n",
    "This uses the system catalog `sqlite_master` to list and count tables (ignoring internal `sqlite_%` tables).\n"
   ]
  },
  {
   "cell_type": "code",
   "execution_count": null,
   "id": "c7ecde04",
   "metadata": {},
   "outputs": [],
   "source": [
    "\n",
    "def list_sqlite_tables(db_path: Path):\n",
    "    if db_path is None or not Path(db_path).exists():\n",
    "        print(\"❌ SQLite file not found. Set DB_PATH manually to a valid file.\")\n",
    "        return None, None\n",
    "    conn = sqlite3.connect(str(db_path))\n",
    "    try:\n",
    "        # list tables\n",
    "        tables = pd.read_sql(\n",
    "            \"SELECT name FROM sqlite_master WHERE type='table' AND name NOT LIKE 'sqlite_%' ORDER BY name;\",\n",
    "            conn\n",
    "        )['name'].tolist()\n",
    "        # count tables\n",
    "        count = pd.read_sql(\n",
    "            \"SELECT COUNT(*) AS n FROM sqlite_master WHERE type='table' AND name NOT LIKE 'sqlite_%';\",\n",
    "            conn\n",
    "        )['n'].iloc[0]\n",
    "        return tables, count\n",
    "    finally:\n",
    "        conn.close()\n",
    "\n",
    "tables, n_tables = list_sqlite_tables(DB_PATH)\n",
    "if tables is not None:\n",
    "    print(f\"SQLite file: {DB_PATH}\")\n",
    "    print(f\"Tables ({n_tables}):\")\n",
    "    for t in tables:\n",
    "        print(\" -\", t)\n",
    "else:\n",
    "    print(\"No SQLite file detected in current tree. Set DB_PATH to your chicago_crime.db (or similar).\")\n"
   ]
  },
  {
   "cell_type": "markdown",
   "id": "de217d8c",
   "metadata": {},
   "source": [
    "\n",
    "### SQL-only (if you're answering inside an SQL tool)\n",
    "```sql\n",
    "-- Count tables:\n",
    "SELECT COUNT(*) AS n\n",
    "FROM sqlite_master\n",
    "WHERE type = 'table' AND name NOT LIKE 'sqlite_%';\n",
    "\n",
    "-- List table names:\n",
    "SELECT name\n",
    "FROM sqlite_master\n",
    "WHERE type = 'table' AND name NOT LIKE 'sqlite_%'\n",
    "ORDER BY name;\n",
    "```\n"
   ]
  },
  {
   "cell_type": "markdown",
   "id": "956c08d4",
   "metadata": {},
   "source": [
    "\n",
    "## 3) (Optional) If your dataset is a folder of CSVs\n",
    "Sometimes Kaggle datasets ship as multiple CSV files. In that case, each CSV can be treated as a \"table\".\n",
    "Set `CSV_DIR` above and run this cell to count/list them.\n"
   ]
  },
  {
   "cell_type": "code",
   "execution_count": null,
   "id": "5635137b",
   "metadata": {},
   "outputs": [],
   "source": [
    "\n",
    "from pathlib import Path\n",
    "\n",
    "def list_csv_tables(csv_dir: Path):\n",
    "    if csv_dir is None:\n",
    "        print(\"CSV_DIR is not set.\")\n",
    "        return None, None\n",
    "    csv_dir = Path(csv_dir)\n",
    "    if not csv_dir.exists():\n",
    "        print(f\"❌ CSV directory not found: {csv_dir}\")\n",
    "        return None, None\n",
    "    files = sorted([p for p in csv_dir.glob('*.csv')])\n",
    "    return files, len(files)\n",
    "\n",
    "csv_files, n_csv = list_csv_tables(CSV_DIR)\n",
    "if csv_files is not None:\n",
    "    print(f\"CSV directory: {CSV_DIR}\")\n",
    "    print(f\"CSV 'tables' ({n_csv}):\")\n",
    "    for f in csv_files:\n",
    "        print(\" -\", f.name)\n"
   ]
  }
 ],
 "metadata": {
  "kernelspec": {
   "display_name": "Python 3 (ipykernel)",
   "language": "python",
   "name": "python3"
  },
  "language_info": {
   "codemirror_mode": {
    "name": "ipython",
    "version": 3
   },
   "file_extension": ".py",
   "mimetype": "text/x-python",
   "name": "python",
   "nbconvert_exporter": "python",
   "pygments_lexer": "ipython3",
   "version": "3.11.6"
  }
 },
 "nbformat": 4,
 "nbformat_minor": 5
}
